{
 "cells": [
  {
   "cell_type": "code",
   "execution_count": 1,
   "id": "878b7d0e-b90c-4b12-a87e-867eea395831",
   "metadata": {},
   "outputs": [],
   "source": [
    "import numpy as np\n",
    "from flask import Flask, request, jsonify, render_template\n",
    "import pickle"
   ]
  },
  {
   "cell_type": "code",
   "execution_count": 3,
   "id": "a7d9524b-074a-4d7d-8abd-14ab44420f6d",
   "metadata": {},
   "outputs": [
    {
     "name": "stdout",
     "output_type": "stream",
     "text": [
      " * Serving Flask app '__main__'\n",
      " * Debug mode: on\n"
     ]
    },
    {
     "name": "stderr",
     "output_type": "stream",
     "text": [
      "WARNING: This is a development server. Do not use it in a production deployment. Use a production WSGI server instead.\n",
      " * Running on http://127.0.0.1:5000\n",
      "Press CTRL+C to quit\n",
      " * Restarting with watchdog (windowsapi)\n"
     ]
    },
    {
     "ename": "SystemExit",
     "evalue": "1",
     "output_type": "error",
     "traceback": [
      "An exception has occurred, use %tb to see the full traceback.\n",
      "\u001b[1;31mSystemExit\u001b[0m\u001b[1;31m:\u001b[0m 1\n"
     ]
    }
   ],
   "source": [
    "# Create flask app\n",
    "flask_app = Flask(__name__)\n",
    "model = pickle.load(open(\"xgb_model_final.pkl\", \"rb\"))\n",
    "\n",
    "@flask_app.route(\"/\")\n",
    "def Home():\n",
    "    return render_template(\"index.html\")\n",
    "\n",
    "@flask_app.route('/Predict', methods=['POST'])\n",
    "def submit_regression():\n",
    "    # Get data from the form\n",
    "    feature1 = request.form.get('feature1')\n",
    "    feature2 = request.form.get('feature2')\n",
    "    feature3 = request.form.get('feature3')\n",
    "    feature4 = request.form.get('feature4')\n",
    "    target_range = request.form.get('target_range')\n",
    "\n",
    "    # Mock prediction logic\n",
    "    try:\n",
    "        # Convert features to numbers\n",
    "        f1 = float(feature1)\n",
    "        f2 = float(feature2)\n",
    "        f3 = float(feature3) if feature3 else 0\n",
    "        f4 = float(feature4)\n",
    "\n",
    "        # Mock regression calculation (adjust as per your model)\n",
    "        predicted_fare = f1 + f2 + f3 + f4\n",
    "\n",
    "        # Return the prediction result\n",
    "        return jsonify({\n",
    "            \"Predicted Fare\": round(predicted_fare, 2),\n",
    "            \"Input Features\": {\n",
    "                \"Feature1\": f1,\n",
    "                \"Feature2\": f2,\n",
    "                \"Feature3\": f3,\n",
    "                \"Feature4\": f4\n",
    "            }\n",
    "        })\n",
    "    except ValueError as e:\n",
    "        return jsonify({\"error\": \"Invalid input data\", \"details\": str(e)})\n",
    "\n",
    "if __name__ == '__main__':\n",
    "    flask_app.run(debug=True,port=5000,threaded=True)"
   ]
  },
  {
   "cell_type": "code",
   "execution_count": null,
   "id": "754e31b2-9949-448e-b2d2-33e97f686d95",
   "metadata": {},
   "outputs": [],
   "source": []
  },
  {
   "cell_type": "code",
   "execution_count": null,
   "id": "88da882b-99a7-409d-b65d-e0f33bf98ffb",
   "metadata": {},
   "outputs": [],
   "source": []
  }
 ],
 "metadata": {
  "kernelspec": {
   "display_name": "Python 3 (ipykernel)",
   "language": "python",
   "name": "python3"
  },
  "language_info": {
   "codemirror_mode": {
    "name": "ipython",
    "version": 3
   },
   "file_extension": ".py",
   "mimetype": "text/x-python",
   "name": "python",
   "nbconvert_exporter": "python",
   "pygments_lexer": "ipython3",
   "version": "3.12.7"
  }
 },
 "nbformat": 4,
 "nbformat_minor": 5
}
